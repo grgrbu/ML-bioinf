{
 "cells": [
  {
   "cell_type": "markdown",
   "metadata": {},
   "source": [
    "# Случайные леса\n",
    "__Суммарное количество баллов: 10__\n",
    "\n",
    "В этом задании вам предстоит реализовать ансамбль деревьев решений, известный как случайный лес, применить его к публичным данным и сравнить его эффективность с ансамблями из самых популярных библиотек."
   ]
  },
  {
   "cell_type": "code",
   "execution_count": 30,
   "metadata": {},
   "outputs": [],
   "source": [
    "from sklearn.model_selection import train_test_split\n",
    "import numpy as np\n",
    "import pandas\n",
    "import random\n",
    "import matplotlib.pyplot as plt\n",
    "import matplotlib\n",
    "import copy\n",
    "\n",
    "import math"
   ]
  },
  {
   "cell_type": "code",
   "execution_count": 31,
   "metadata": {},
   "outputs": [],
   "source": [
    "def gini(x):\n",
    "    labels_cnt = dict()\n",
    "    for label in x:\n",
    "        if label in labels_cnt.keys():\n",
    "            labels_cnt[label] += 1\n",
    "        else:\n",
    "            labels_cnt[label] = 1\n",
    "    gini_coeff = 0\n",
    "    for label in labels_cnt.keys():\n",
    "        p_label = labels_cnt[label] / len(x)\n",
    "        gini_coeff += p_label * (1 - p_label)\n",
    "\n",
    "    return gini_coeff\n",
    "    \n",
    "def entropy(x):\n",
    "    labels_cnt = dict()\n",
    "    for label in x:\n",
    "        if label in labels_cnt.keys():\n",
    "            labels_cnt[label] += 1\n",
    "        else:\n",
    "            labels_cnt[label] = 1\n",
    "    entropy_coeff = 0\n",
    "    for label in labels_cnt.keys():\n",
    "        p_label = labels_cnt[label] / len(x)\n",
    "        entropy_coeff -= p_label * math.log(p_label, 2)\n",
    "    return entropy_coeff\n",
    "\n",
    "def gain(left_y, right_y, criterion):\n",
    "    size_left = len(left_y)\n",
    "    size_right = len(right_y)\n",
    "    size_all = size_left + size_right\n",
    "    \n",
    "    Q = criterion(left_y + right_y) - (size_right/size_all) * criterion(right_y) - (size_left/size_all) * criterion(left_y)\n",
    "    SplitInfo = 0\n",
    "    \n",
    "    labels_cnt = dict()\n",
    "    for label in (left_y + right_y):\n",
    "        if label in labels_cnt.keys():\n",
    "            labels_cnt[label] += 1\n",
    "        else:\n",
    "            labels_cnt[label] = 1\n",
    "    for label in labels_cnt.keys():\n",
    "        p_label = labels_cnt[label] / size_all\n",
    "        SplitInfo -= p_label * math.log(p_label, 2)\n",
    "    \n",
    "    return Q / SplitInfo"
   ]
  },
  {
   "cell_type": "code",
   "execution_count": 32,
   "metadata": {},
   "outputs": [],
   "source": [
    "class DecisionTreeLeaf:\n",
    "    def __init__(self, y = None):\n",
    "        self.y = y\n",
    "\n",
    "class DecisionTreeNode:\n",
    "    def __init__(self, split_dim, split_value, left, right):\n",
    "        self.split_dim = split_dim\n",
    "        self.split_value = split_value\n",
    "        self.left = left\n",
    "        self.right = right\n",
    "        "
   ]
  },
  {
   "cell_type": "code",
   "execution_count": 33,
   "metadata": {},
   "outputs": [],
   "source": [
    "def make_split(X, y, min_size, critetion):\n",
    "    n = len(X)\n",
    "    m = len(X[0])\n",
    "    max_gain = 0\n",
    "    split_dim = -1\n",
    "    split_value = 0\n",
    "    \n",
    "    for dim in range(m):\n",
    "        for value in X[:, dim]:\n",
    "            left_y, right_y = [], []\n",
    "            for i in range(len(X)):\n",
    "                if X[i][dim] < value:\n",
    "                    left_y.append(y[i])\n",
    "                else:\n",
    "                    right_y.append(y[i])\n",
    "            \n",
    "            if len(left_y) >= min_size and len(right_y) >= min_size:  \n",
    "                cur_gain = gain(left_y, right_y, critetion)\n",
    "                if cur_gain > max_gain:\n",
    "                    max_gain = cur_gain\n",
    "                    split_dim = dim\n",
    "                    split_value = value\n",
    "                \n",
    "    return split_dim, split_value"
   ]
  },
  {
   "cell_type": "code",
   "execution_count": 34,
   "metadata": {},
   "outputs": [],
   "source": [
    "def make_node(tree, X, y, depth):\n",
    "    new_node = None\n",
    "        \n",
    "    if len(y) == 0: # no data in the group\n",
    "        return None\n",
    "    if np.all(y == y[0]): # every label is the in the group\n",
    "        return DecisionTreeLeaf(y[0])\n",
    "    if depth < 0: # depth limit reached\n",
    "        return None\n",
    "\n",
    "    if tree.criterion == \"gini\":\n",
    "        split_dim, split_value = make_split(X, y, tree.min_samples_leaf, gini)\n",
    "    else:\n",
    "        split_dim, split_value = make_split(X, y, tree.min_samples_leaf, entropy)\n",
    "    if split_dim == -1:\n",
    "        return DecisionTreeLeaf(np.bincount(y).argmax())\n",
    "\n",
    "    X_left = X[X[:, split_dim] < split_value]\n",
    "    X_right = X[X[:, split_dim] >= split_value]\n",
    "    y_left = y[X[:, split_dim] < split_value]\n",
    "    y_right = y[X[:, split_dim] >= split_value]\n",
    "\n",
    "    return DecisionTreeNode(split_dim, split_value\n",
    "                            , make_node(tree, X_left, y_left, depth - 1), make_node(tree, X_right, y_right, depth - 1))"
   ]
  },
  {
   "cell_type": "markdown",
   "metadata": {},
   "source": [
    "### Задание 1 (3 балла)\n",
    "Реализуем сам Random Forest. Идея очень простая: строим `n` деревьев, а затем берем модальное предсказание. Используйте реализацию дерева из HW3.\n",
    "\n",
    "#### Параметры конструктора\n",
    "`n_estimators` - количество используемых для предсказания деревьев.\n",
    "\n",
    "Остальное - параметры деревьев.\n",
    "\n",
    "#### Методы\n",
    "`fit(X, y)` - строит `n_estimators` деревьев по выборке `X`.\n",
    "\n",
    "`predict(X)` - для каждого элемента выборки `X` возвращает самый частый класс, который предсказывают для него деревья."
   ]
  },
  {
   "cell_type": "code",
   "execution_count": 55,
   "metadata": {},
   "outputs": [],
   "source": [
    "class RandomForestClassifier:\n",
    "    def __init__(self, criterion=\"gini\", max_depth=None, min_samples_leaf=1, max_features=\"auto\", n_estimators=10):\n",
    "        self.criterion = criterion\n",
    "        self.max_depth = max_depth\n",
    "        self.min_samples_leaf = min_samples_leaf\n",
    "        self.max_features = max_features\n",
    "        self.n_estimators = n_estimators\n",
    "    \n",
    "    def fit(self, X, y):\n",
    "        self.roots = []\n",
    "        \n",
    "        all_indexes = list(range(1, len(y)))\n",
    "        for i in range(self.n_estimators):\n",
    "            cur_indexes = random.sample(all_indexes, len(y) // 2)\n",
    "            cur_X = X[cur_indexes, :]\n",
    "            cur_y = y[cur_indexes]\n",
    "            \n",
    "            self.roots.append(make_node(self, cur_X, cur_y, self.max_depth))\n",
    "\n",
    "    \n",
    "    def predict(self, X):\n",
    "        answer = []\n",
    "        for elem in X:\n",
    "            cur_predictions = []\n",
    "            for i in range(self.n_estimators):\n",
    "                cur_node = self.roots[i]\n",
    "                while type(cur_node) == DecisionTreeNode:\n",
    "                    if elem[cur_node.split_dim] < cur_node.split_value:\n",
    "                        cur_node = cur_node.left\n",
    "                    else:\n",
    "                        cur_node = cur_node.right\n",
    "                cur_predictions.append(cur_node.y)\n",
    "            answer.append(np.bincount(cur_predictions).argmax())\n",
    "        return answer"
   ]
  },
  {
   "cell_type": "code",
   "execution_count": 56,
   "metadata": {},
   "outputs": [],
   "source": [
    "X = [[1, 1], \n",
    "     [2, 2],\n",
    "     [1, 7], \n",
    "     \n",
    "     [2, 7], \n",
    "     [8, 6],\n",
    "     [5, 5]\n",
    "    ]\n",
    "y = [0, 0, 0, 1, 1, 1]\n",
    "X = np.array(X)\n",
    "y = np.array(y)"
   ]
  },
  {
   "cell_type": "code",
   "execution_count": 57,
   "metadata": {},
   "outputs": [
    {
     "data": {
      "text/plain": [
       "[0, 0, 0, 1, 1, 1]"
      ]
     },
     "execution_count": 57,
     "metadata": {},
     "output_type": "execute_result"
    }
   ],
   "source": [
    "forest = RandomForestClassifier(\"gini\", max_depth=5, min_samples_leaf=1, max_features=\"auto\", n_estimators=3)\n",
    "forest.fit(X, y)\n",
    "forest.predict(X) ## работает!"
   ]
  },
  {
   "cell_type": "markdown",
   "metadata": {},
   "source": [
    "### Задание 3 (2 балла)\n",
    "Оптимизируйте по `AUC` на кроссвалидации (размер валидационной выборки - 20%) параметры своей реализации `Random Forest`: \n",
    "\n",
    "максимальную глубину деревьев из [2, 3, 5, 7, 10], количество деревьев из [5, 10, 20, 30, 50, 100]. \n",
    "\n",
    "Постройте `ROC` кривую (и выведите `AUC` и `accuracy`) для лучшего варианта.\n",
    "\n",
    "Подсказка: можно построить сразу 100 деревьев глубины 10, а потом убирать деревья и\n",
    "глубину."
   ]
  },
  {
   "cell_type": "code",
   "execution_count": null,
   "metadata": {},
   "outputs": [],
   "source": [
    "# YOUR_CODE"
   ]
  },
  {
   "cell_type": "markdown",
   "metadata": {},
   "source": [
    "### Задание 4 (3 балла)\n",
    "Часто хочется понимать, насколько большую роль играет тот или иной признак для предсказания класса объекта. Есть различные способы посчитать его важность. Один из простых способов сделать это для Random Forest выглядит так:\n",
    "1. Посчитать out-of-bag ошибку предсказания `err_oob` (https://en.wikipedia.org/wiki/Out-of-bag_error)\n",
    "2. Перемешать значения признака `j` у объектов выборки (у каждого из объектов изменится значение признака `j` на какой-то другой)\n",
    "3. Посчитать out-of-bag ошибку (`err_oob_j`) еще раз.\n",
    "4. Оценкой важности признака `j` для одного дерева будет разность `err_oob_j - err_oob`, важность для всего леса считается как среднее значение важности по деревьям.\n",
    "\n",
    "Реализуйте функцию `feature_importance`, которая принимает на вход Random Forest и возвращает массив, в котором содержится важность для каждого признака."
   ]
  },
  {
   "cell_type": "code",
   "execution_count": null,
   "metadata": {},
   "outputs": [],
   "source": [
    "def feature_importance(rfc):\n",
    "    raise NotImplementedError()\n",
    "\n",
    "def most_important_features(importance, names, k=20):\n",
    "    # Выводит названия k самых важных признаков\n",
    "    idicies = np.argsort(importance)[::-1][:k]\n",
    "    return np.array(names)[idicies]"
   ]
  },
  {
   "cell_type": "markdown",
   "metadata": {},
   "source": [
    "Протестируйте решение на простом синтетическом наборе данных. В результате должна получиться точность `1.0`, наибольшее значение важности должно быть у признака с индексом `4`, признаки с индексами `2` и `3`  должны быть одинаково важны, а остальные признаки - не важны совсем."
   ]
  },
  {
   "cell_type": "code",
   "execution_count": null,
   "metadata": {},
   "outputs": [],
   "source": [
    "def synthetic_dataset(size):\n",
    "    X = [(np.random.randint(0, 2), np.random.randint(0, 2), i % 6 == 3, \n",
    "          i % 6 == 0, i % 3 == 2, np.random.randint(0, 2)) for i in range(size)]\n",
    "    y = [i % 3 for i in range(size)]\n",
    "    return np.array(X), np.array(y)\n",
    "\n",
    "X, y = synthetic_dataset(1000)\n",
    "rfc = RandomForestClassifier(n_estimators=100)\n",
    "rfc.fit(X, y)\n",
    "print(\"Accuracy:\", np.mean(rfc.predict(X) == y))\n",
    "print(\"Importance:\", feature_importance(rfc))"
   ]
  },
  {
   "cell_type": "markdown",
   "metadata": {},
   "source": [
    "Проверьте, какие признаки важны для датасетов cancer и spam?"
   ]
  },
  {
   "cell_type": "markdown",
   "metadata": {},
   "source": [
    "_Ваш ответ_"
   ]
  },
  {
   "cell_type": "markdown",
   "metadata": {},
   "source": [
    "### Задание 5 (2 балла)\n",
    "В качестве альтернативы попробуем библиотечные реализации ансамблей моделей. \n",
    "\n",
    "1. [CatBoost](https://catboost.ai/docs/)\n",
    "2. [XGBoost](https://xgboost.readthedocs.io/en/latest/)\n",
    "3. [LightGBM](https://lightgbm.readthedocs.io/en/latest/)\n"
   ]
  },
  {
   "cell_type": "markdown",
   "metadata": {},
   "source": [
    "Установите необходимые библиотеки. \n",
    "Возможно, потребуется установка дополнительных пакетов"
   ]
  },
  {
   "cell_type": "code",
   "execution_count": null,
   "metadata": {},
   "outputs": [],
   "source": [
    "!pip install lightgbm\n",
    "!pip install catboost\n",
    "!pip install xgboost"
   ]
  },
  {
   "cell_type": "markdown",
   "metadata": {},
   "source": [
    "Также, как и реализованный нами RandomForest, примените модели для наших датасетов.\n",
    "\n",
    "Для стандартного набора параметров у каждой модели нарисуйте `ROC` кривую и выведите `AUC` и `accuracy`.\n",
    "\n",
    "Посчитайте время обучения каждой модели (можно использовать [timeit magic](https://ipython.readthedocs.io/en/stable/interactive/magics.html#magic-timeit)). \n",
    "\n",
    "Сравните метрики качества и скорость обучения моделей. Какие выводы можно сделать?"
   ]
  },
  {
   "cell_type": "code",
   "execution_count": 1,
   "metadata": {},
   "outputs": [],
   "source": [
    "# YOUR_CODE"
   ]
  },
  {
   "cell_type": "markdown",
   "metadata": {},
   "source": [
    "_Ваш ответ_"
   ]
  }
 ],
 "metadata": {
  "kernelspec": {
   "display_name": "Python 3",
   "language": "python",
   "name": "python3"
  },
  "language_info": {
   "codemirror_mode": {
    "name": "ipython",
    "version": 3
   },
   "file_extension": ".py",
   "mimetype": "text/x-python",
   "name": "python",
   "nbconvert_exporter": "python",
   "pygments_lexer": "ipython3",
   "version": "3.6.5"
  }
 },
 "nbformat": 4,
 "nbformat_minor": 2
}
