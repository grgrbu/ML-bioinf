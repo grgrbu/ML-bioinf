{
  "nbformat": 4,
  "nbformat_minor": 0,
  "metadata": {
    "kernelspec": {
      "display_name": "Python 3",
      "language": "python",
      "name": "python3"
    },
    "language_info": {
      "codemirror_mode": {
        "name": "ipython",
        "version": 3
      },
      "file_extension": ".py",
      "mimetype": "text/x-python",
      "name": "python",
      "nbconvert_exporter": "python",
      "pygments_lexer": "ipython3",
      "version": "3.6.5"
    },
    "colab": {
      "name": "HW8_Regression.ipynb",
      "provenance": [],
      "include_colab_link": true
    }
  },
  "cells": [
    {
      "cell_type": "markdown",
      "metadata": {
        "id": "view-in-github",
        "colab_type": "text"
      },
      "source": [
        "<a href=\"https://colab.research.google.com/github/grgrbu/ML-bioinf/blob/main/HW8_Regression.ipynb\" target=\"_parent\"><img src=\"https://colab.research.google.com/assets/colab-badge.svg\" alt=\"Open In Colab\"/></a>"
      ]
    },
    {
      "cell_type": "markdown",
      "metadata": {
        "id": "DdYptfFlIaW7"
      },
      "source": [
        "# Линейная регрессия\n",
        "__Суммарное количество баллов: 10__\n"
      ]
    },
    {
      "cell_type": "code",
      "metadata": {
        "id": "M1pmZJb2IaXd"
      },
      "source": [
        "from sklearn.datasets import make_blobs, make_moons\n",
        "from sklearn.model_selection import train_test_split\n",
        "import numpy as np\n",
        "import random\n",
        "import matplotlib.pyplot as plt\n",
        "import matplotlib\n",
        "import copy\n",
        "import scipy\n",
        "import pandas as pd\n",
        "from sklearn import preprocessing\n",
        "from sklearn.preprocessing import StandardScaler"
      ],
      "execution_count": 1,
      "outputs": []
    },
    {
      "cell_type": "code",
      "metadata": {
        "id": "FIpdfUbHIaXi"
      },
      "source": [
        "def read_data(path=\"/boston.csv\"):\n",
        "    if path == \"/boston.csv\":\n",
        "      dataframe = np.genfromtxt(path, delimiter=\",\", skip_header=15)\n",
        "      X = dataframe[:, :-1]\n",
        "      y = dataframe[:, -1]\n",
        "    elif path == \"/cancer.csv\":\n",
        "      dataframe = np.genfromtxt(path, delimiter=\",\", skip_header=1)\n",
        "      X = dataframe[:, 1:]\n",
        "      y = dataframe[:, 0]\n",
        "      df = pd.read_csv(path, sep=\",\",  header = 0, decimal ='.')\n",
        "      y = df['label'].replace({'B':0, 'M':1})\n",
        "      y = np.array(y)\n",
        "    else:\n",
        "      dataframe = np.genfromtxt(path, delimiter=\",\", skip_header=15)\n",
        "      X = dataframe[:, :-1]\n",
        "      y = dataframe[:, -1]\n",
        "    return X, y"
      ],
      "execution_count": 2,
      "outputs": []
    },
    {
      "cell_type": "code",
      "metadata": {
        "id": "ewc2jcCQIaXj"
      },
      "source": [
        "def generate_synthetic(size, dim=6, noise=0.1):\n",
        "    X = np.random.randn(size, dim)\n",
        "    w = np.random.randn(dim + 1)\n",
        "    noise = noise * np.random.randn(size)\n",
        "    y = X.dot(w[1:]) + w[0] + noise\n",
        "    return X, y"
      ],
      "execution_count": 3,
      "outputs": []
    },
    {
      "cell_type": "markdown",
      "metadata": {
        "id": "ED-jQtNeIaXl"
      },
      "source": [
        "### Задание 1 (1 балл)\n",
        "Для начала нужно понять, какую метрику для ошибки будем использовать. В нашем случае нам подойдет стандартная метрика MSE. Ее и нужно реализовать."
      ]
    },
    {
      "cell_type": "code",
      "metadata": {
        "id": "1rm4Zf5qIaXo"
      },
      "source": [
        "def mse(y_true, y_predicted):\n",
        "    return np.mean((y_true - y_predicted)**2)"
      ],
      "execution_count": 4,
      "outputs": []
    },
    {
      "cell_type": "markdown",
      "metadata": {
        "id": "fcuXIdF_IaXq"
      },
      "source": [
        "### Задание 2 (3 балла)\n",
        "Теперь реализуем линейную регрессию при помощи явного решения задачи минимизации. \n",
        "\n",
        "#### Методы\n",
        "`fit(X, y)` - решает задачу минимизации $\\arg\\min_{w, b}\\sum ((w\\cdot x + b) - y)^2$. \n",
        "\n",
        "`predict(X)` - строит предсказание `y` для объектов из `X`."
      ]
    },
    {
      "cell_type": "code",
      "metadata": {
        "id": "k0I1H5ykIaXr"
      },
      "source": [
        "class NormalLR:\n",
        "    def __init__(self):\n",
        "        pass\n",
        "        \n",
        "    def fit(self, X, y):\n",
        "        X = np.concatenate((np.ones(X.shape[0]).reshape(-1, 1), X), axis=1)\n",
        "        self.weights = np.linalg.inv(X.T @ X) @ X.T @ y\n",
        "    \n",
        "    def predict(self, X):\n",
        "        X = np.concatenate((np.ones(X.shape[0]).reshape(-1, 1), X), axis=1)\n",
        "        return X @ self.weights"
      ],
      "execution_count": 5,
      "outputs": []
    },
    {
      "cell_type": "code",
      "metadata": {
        "id": "Wy4TdbEkIaXt"
      },
      "source": [
        "X, y = generate_synthetic(1024)\n",
        "X_train, X_test, y_train, y_test = train_test_split(X, y, train_size=0.8)"
      ],
      "execution_count": 6,
      "outputs": []
    },
    {
      "cell_type": "code",
      "metadata": {
        "colab": {
          "base_uri": "https://localhost:8080/"
        },
        "id": "XB6qn9E5IaXu",
        "outputId": "77c4568b-91ce-4378-fcab-f9c5d2476a80"
      },
      "source": [
        "regr = NormalLR()\n",
        "regr.fit(X_train, y_train)\n",
        "print(mse(y_test, regr.predict(X_test)))"
      ],
      "execution_count": 7,
      "outputs": [
        {
          "output_type": "stream",
          "text": [
            "0.009082334435011342\n"
          ],
          "name": "stdout"
        }
      ]
    },
    {
      "cell_type": "markdown",
      "metadata": {
        "id": "sMB9SZxkIaXv"
      },
      "source": [
        "### Задание 3 (2 балла)\n",
        "Теперь реализуем линейную регрессию с использованием градиентного спуска с larning rate `alpha` в течении `iterations` итераций.\n",
        "\n",
        "#### Методы\n",
        "`fit(X, y)` - приближает решение задачи минимизации $\\arg\\min_{w, b}\\sum ((w\\cdot x + b) - y)^2$ при помощи градиентного спуска. \n",
        "\n",
        "\n",
        "`predict(X)` - строит предсказание `y` для объектов из `X`."
      ]
    },
    {
      "cell_type": "markdown",
      "metadata": {
        "id": "BRpGEBj6IaXx"
      },
      "source": [
        "### Задание 4 (2 балла)\n",
        "Добавьте в метод `fit` регуляризацию Лассо с коэффициентом `l`. Постройте график зависимости ошибки предсказания данных из синтетического набора данных от коэффициента регуляризации."
      ]
    },
    {
      "cell_type": "code",
      "metadata": {
        "id": "85ZgulmQIaXz"
      },
      "source": [
        "class GradientLR:\n",
        "    def __init__(self, alpha, iterations=10000, l=0.):\n",
        "        self.alpha = alpha\n",
        "        self.iterations = iterations\n",
        "        self.l = l\n",
        "    \n",
        "    def fit(self, X, y):\n",
        "        m = X.shape[1]\n",
        "        n = X.shape[0]\n",
        "        self.weights = np.random.uniform(-0.1, 0.1, m + 1)\n",
        "        Xx = np.c_[np.full(n, 1), X]\n",
        "        for i in range(self.iterations):\n",
        "            y_pred = np.dot(Xx, self.weights)\n",
        "            num = 2 * self.alpha * np.dot(Xx.T, y-y_pred) - self.l * np.sign(self.weights)\n",
        "            den = Xx.shape[0] * Xx.shape[1]\n",
        "            self.weights += num / den \n",
        "            \n",
        "    def predict(self, X):\n",
        "        X = np.concatenate((np.ones(X.shape[0]).reshape(-1, 1), X), axis=1)\n",
        "        return X @ self.weights"
      ],
      "execution_count": 8,
      "outputs": []
    },
    {
      "cell_type": "code",
      "metadata": {
        "id": "d_JpDdqbIaX0"
      },
      "source": [
        "def build_plot(X_train, y_train, X_test, y_test, iterations=1000):\n",
        "    l_f = np.arange(0, 0.2, 0.01)\n",
        "    y = []\n",
        "    for l in l_f:\n",
        "        regr = GradientLR(0.1, iterations=iterations, l=l)\n",
        "        regr.fit(X_train, y_train)\n",
        "        y.append(mse(y_test, regr.predict(X_test)))\n",
        "    plt.plot(l_f, y)\n",
        "    plt.show()"
      ],
      "execution_count": 9,
      "outputs": []
    },
    {
      "cell_type": "code",
      "metadata": {
        "id": "9yTHh6ngIaX1"
      },
      "source": [
        "X, y = generate_synthetic(1024)\n",
        "X_train, X_test, y_train, y_test = train_test_split(X, y, train_size=0.8)"
      ],
      "execution_count": 10,
      "outputs": []
    },
    {
      "cell_type": "code",
      "metadata": {
        "colab": {
          "base_uri": "https://localhost:8080/",
          "height": 287
        },
        "id": "VVTSa73GIaX3",
        "outputId": "f3d691ab-0735-4bb7-8b37-4c6c031ffa61"
      },
      "source": [
        "regr = GradientLR(0.1, iterations=10000)\n",
        "regr.fit(X_train, y_train)\n",
        "print(mse(y_test, regr.predict(X_test)))\n",
        "build_plot(X_train, y_train, X_test, y_test)"
      ],
      "execution_count": 11,
      "outputs": [
        {
          "output_type": "stream",
          "text": [
            "0.009983623380924088\n"
          ],
          "name": "stdout"
        },
        {
          "output_type": "display_data",
          "data": {
            "image/png": "[encoded data removed]",
            "text/plain": [
              "<Figure size 432x288 with 1 Axes>"
            ]
          },
          "metadata": {
            "tags": [],
            "needs_background": "light"
          }
        }
      ]
    },
    {
      "cell_type": "markdown",
      "metadata": {
        "id": "YUBHd7gYIaX4"
      },
      "source": [
        "### Задание 5 (2 балла)\n",
        "Протесируйте оба метода на данных cancer и spam, для градиентного спуска постройте график зависимости ошибки от коэффициента регуляризации. "
      ]
    },
    {
      "cell_type": "markdown",
      "metadata": {
        "id": "Um8pHnXG03G7"
      },
      "source": [
        "### Cancer"
      ]
    },
    {
      "cell_type": "code",
      "metadata": {
        "id": "qq6hFfVbIaX6"
      },
      "source": [
        "X, y = read_data(\"/cancer.csv\")\n",
        "X_train, X_test, y_train, y_test = train_test_split(X, y, train_size=0.8, shuffle=False)"
      ],
      "execution_count": 12,
      "outputs": []
    },
    {
      "cell_type": "code",
      "metadata": {
        "id": "sfHodAInvmu5"
      },
      "source": [
        "scal = preprocessing.StandardScaler()\n",
        "scal.fit(X_train)\n",
        "\n",
        "X_train = scal.transform(X_train)\n",
        "X_test = scal.transform(X_test)"
      ],
      "execution_count": 13,
      "outputs": []
    },
    {
      "cell_type": "code",
      "metadata": {
        "colab": {
          "base_uri": "https://localhost:8080/"
        },
        "id": "4FrlGbdKIaX8",
        "outputId": "b9176182-6db4-4b80-ce98-61b8808f8b64"
      },
      "source": [
        "regr = NormalLR()\n",
        "regr.fit(X_train, y_train)\n",
        "print(mse(y_test, regr.predict(X_test)))"
      ],
      "execution_count": 14,
      "outputs": [
        {
          "output_type": "stream",
          "text": [
            "0.05986875983440513\n"
          ],
          "name": "stdout"
        }
      ]
    },
    {
      "cell_type": "code",
      "metadata": {
        "colab": {
          "base_uri": "https://localhost:8080/",
          "height": 283
        },
        "id": "C8EU8XxwIaX-",
        "outputId": "8999fc1f-d0ea-47ab-e778-b4b2163474fc"
      },
      "source": [
        "regr = GradientLR(0.1, iterations=10000)\n",
        "regr.fit(X_train, y_train)\n",
        "print(mse(y_test, regr.predict(X_test)))\n",
        "build_plot(X_train, y_train, X_test, y_test)"
      ],
      "execution_count": 15,
      "outputs": [
        {
          "output_type": "stream",
          "text": [
            "0.06111606855143497\n"
          ],
          "name": "stdout"
        },
        {
          "output_type": "display_data",
          "data": {
            "image/png": "[encoded data removed]",
            "text/plain": [
              "<Figure size 432x288 with 1 Axes>"
            ]
          },
          "metadata": {
            "tags": [],
            "needs_background": "light"
          }
        }
      ]
    },
    {
      "cell_type": "markdown",
      "metadata": {
        "id": "_-jhc0Bz08M0"
      },
      "source": [
        "## Spam"
      ]
    },
    {
      "cell_type": "code",
      "metadata": {
        "id": "AcRwt5MyIaYA"
      },
      "source": [
        "X, y = read_data(\"/spam.csv\")\n",
        "X_train, X_test, y_train, y_test = train_test_split(X, y, train_size=0.8, shuffle=False)"
      ],
      "execution_count": 16,
      "outputs": []
    },
    {
      "cell_type": "code",
      "metadata": {
        "id": "cZZ4UX__50lt"
      },
      "source": [
        "scal = preprocessing.StandardScaler()\n",
        "scal.fit(X_train)\n",
        "\n",
        "X_train = scal.transform(X_train)\n",
        "X_test = scal.transform(X_test)"
      ],
      "execution_count": 17,
      "outputs": []
    },
    {
      "cell_type": "code",
      "metadata": {
        "colab": {
          "base_uri": "https://localhost:8080/"
        },
        "id": "wd3WrqwS50iO",
        "outputId": "130c1d3a-ad92-4065-f8c2-2ac874ae147d"
      },
      "source": [
        "regr = NormalLR()\n",
        "regr.fit(X_train, y_train)\n",
        "print(mse(y_test, regr.predict(X_test)))"
      ],
      "execution_count": 18,
      "outputs": [
        {
          "output_type": "stream",
          "text": [
            "0.189095845995502\n"
          ],
          "name": "stdout"
        }
      ]
    },
    {
      "cell_type": "code",
      "metadata": {
        "colab": {
          "base_uri": "https://localhost:8080/",
          "height": 286
        },
        "id": "vfRe8b1550c4",
        "outputId": "fb12905b-f5e0-40e6-e849-ea0dc2e0a756"
      },
      "source": [
        "regr = GradientLR(0.1, iterations=10000)\n",
        "regr.fit(X_train, y_train)\n",
        "print(mse(y_test, regr.predict(X_test)))\n",
        "build_plot(X_train, y_train, X_test, y_test)"
      ],
      "execution_count": 19,
      "outputs": [
        {
          "output_type": "stream",
          "text": [
            "0.1887002839492016\n"
          ],
          "name": "stdout"
        },
        {
          "output_type": "display_data",
          "data": {
            "image/png": "[encoded data removed]",
            "text/plain": [
              "<Figure size 432x288 with 1 Axes>"
            ]
          },
          "metadata": {
            "tags": [],
            "needs_background": "light"
          }
        }
      ]
    }
  ]
}