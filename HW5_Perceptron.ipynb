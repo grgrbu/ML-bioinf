{
 "cells": [
  {
   "cell_type": "markdown",
   "metadata": {
    "colab_type": "text",
    "id": "hgt4q-WT5tLV"
   },
   "source": [
    "# Перцептрон для восприятия цифр\n",
    "__Суммарное количество баллов: 10__\n",
    "\n",
    "В этом задании вам предстоит реализовать классический перцептрон, немного улучшить его, и протестировать результат на классической задаче определения цифр по изображениям."
   ]
  },
  {
   "cell_type": "code",
   "execution_count": 1,
   "metadata": {
    "colab": {},
    "colab_type": "code",
    "id": "HtQreA-V5tLW"
   },
   "outputs": [],
   "source": [
    "import numpy as np\n",
    "from sklearn.datasets import make_blobs, make_moons\n",
    "from sklearn.model_selection import train_test_split\n",
    "import matplotlib.pyplot as plt\n",
    "from sklearn import datasets\n",
    "import copy"
   ]
  },
  {
   "cell_type": "markdown",
   "metadata": {
    "colab_type": "text",
    "id": "lARqtR6o5tLY"
   },
   "source": [
    "### Задание 1 (3 балла)\n",
    "Для начала реализуем простой перцептрон.\n",
    "\n",
    "#### Методы\n",
    "`predict(X)` - возвращает предсказанные метки для элементов выборки `X`\n",
    "\n",
    "`fit(X, y)` - инициализирует веса перцептрона, а затем обновляет их в течении `iterations` итераций. \n",
    "\n",
    "#### Параметры конструктора\n",
    "`iterations` - количество итераций обучения перцептрона\n",
    "\n",
    "#### Поля\n",
    "`w` - веса перцептрона размерности `X.shape[1] + 1`. `w[0]` должен соответстовать константе, `w[1:]` - коэффициентам компонент элемента `X`."
   ]
  },
  {
   "cell_type": "code",
   "execution_count": 47,
   "metadata": {
    "colab": {},
    "colab_type": "code",
    "id": "9vOHrZ5W5tLZ"
   },
   "outputs": [],
   "source": [
    "class Perceptron:\n",
    "    def __init__(self, iterations=100):\n",
    "        self.w = None\n",
    "        self.iterations = iterations\n",
    "    \n",
    "    def fit(self, X, y):\n",
    "        X = np.insert(X, 0, [0]*len(X), axis=1)\n",
    "        self.w = np.array([0] * X.shape[1])\n",
    "        for i in range(self.iterations):\n",
    "            if np.matmul(np.transpose(self.w), X[i]) * y[i] <= 0: # prediction and h(x) have different signs\n",
    "                self.w = self.w + y[i] * X[i]\n",
    "            \n",
    "    def predict(self, X):\n",
    "        ans = []\n",
    "        X = np.insert(X, 0, [0]*len(X), axis=1)\n",
    "        for i in range(X.shape[0]):\n",
    "            if np.matmul(np.transpose(self.w), X[i]) >= 0:\n",
    "                ans.append(1)\n",
    "            else:\n",
    "                ans.append(-1)\n",
    "        return ans"
   ]
  },
  {
   "cell_type": "markdown",
   "metadata": {
    "colab_type": "text",
    "id": "KSunHi2E5tLb"
   },
   "source": [
    "Посмотрим на то, как наш перцептрон справляется с различными наборами данных"
   ]
  },
  {
   "cell_type": "markdown",
   "metadata": {
    "colab_type": "text",
    "id": "pbY9ZpRF5tLf"
   },
   "source": [
    "### Задание 2 (2 балл)\n",
    "Проблема обычной реализации перцептрона в том, что закончить его обучение мы можем с неоптимальными весами, т.к. точность разбиения в зависимости от числа итераций не растет монотонно. Чтобы этого избежать, мы можем оставлять в конце веса той итерации, на которой мы лучше всего разбивали множество `X`.\n",
    "\n",
    "Реализуем перцептрон с карманом.\n",
    "\n",
    "#### Методы\n",
    "`predict(X)` - возвращает предсказанные метки для элементов выборки `X`\n",
    "\n",
    "`fit(X, y)` - инициализирует веса перцептрона, а затем обновляет их в течении `iterations` итераций. В конце обучения оставляет лучшие веса. \n",
    "\n",
    "#### Параметры конструктора\n",
    "`iterations` - количество итераций обучения перцептрона\n",
    "\n",
    "#### Поля\n",
    "`w` - веса перцептрона размерности `X.shape[1] + 1`. `w[0]` должен соответстовать константе, `w[1:]` - коэффициентам компонент элемента `X`."
   ]
  },
  {
   "cell_type": "code",
   "execution_count": 58,
   "metadata": {
    "colab": {},
    "colab_type": "code",
    "id": "ny1gXuuE5tLf"
   },
   "outputs": [],
   "source": [
    "class PerceptronBest:\n",
    "    def __init__(self, iterations=100):\n",
    "        self.w = None\n",
    "        self.iterations = iterations\n",
    "    \n",
    "    def fit(self, X, y):\n",
    "        X = np.insert(X, 0, [0]*len(X), axis=1)\n",
    "        w = np.array([0] * X.shape[1])\n",
    "        min_divia = 2\n",
    "        for i in range(self.iterations):\n",
    "            if np.matmul(np.transpose(w), X[i]) * y[i] <= 0: # prediction and h(x) have different signs\n",
    "                w = w + y[i] * X[i]\n",
    "            if np.matmul(np.transpose(w), X[i]) < min_divia:\n",
    "                self.w = w\n",
    "            \n",
    "    def predict(self, X):\n",
    "        ans = []\n",
    "        X = np.insert(X, 0, [0]*len(X), axis=1)\n",
    "        for i in range(X.shape[0]):\n",
    "            if np.matmul(np.transpose(self.w), X[i]) >= 0:\n",
    "                ans.append(1)\n",
    "            else:\n",
    "                ans.append(-1)\n",
    "        return ans"
   ]
  },
  {
   "cell_type": "code",
   "execution_count": 59,
   "metadata": {
    "colab": {},
    "colab_type": "code",
    "id": "hmtKQzwf5tLh"
   },
   "outputs": [],
   "source": [
    "def visualize(X, labels_true, labels_pred, w):\n",
    "    unique_labels = np.unique(labels_true)\n",
    "    unique_colors = dict([(l, c) for l, c in zip(unique_labels, [[0.8, 0., 0.], [0., 0., 0.8]])])\n",
    "    plt.figure(figsize=(9, 9))\n",
    "\n",
    "    if w[1] == 0:\n",
    "        plt.plot([X[:, 0].min(), X[:, 0].max()], w[0] / w[2])\n",
    "    elif w[2] == 0:\n",
    "        plt.plot(w[0] / w[1], [X[:, 1].min(), X[:, 1].max()])  \n",
    "    else:\n",
    "        mins, maxs = X.min(axis=0), X.max(axis=0)\n",
    "        pts = [[mins[0], -mins[0] * w[1] / w[2] - w[0] / w[2]],\n",
    "               [maxs[0], -maxs[0] * w[1] / w[2] - w[0] / w[2]],\n",
    "               [-mins[1] * w[2] / w[1] - w[0] / w[1], mins[1]],\n",
    "               [-maxs[1] * w[2] / w[1] - w[0] / w[1], maxs[1]]]\n",
    "        pts = [(x, y) for x, y in pts if mins[0] <= x <= maxs[0] and mins[1] <= y <= maxs[1]]\n",
    "        x, y = list(zip(*pts))\n",
    "        plt.plot(x, y, c=(0.75, 0.75, 0.75), linestyle=\"--\")\n",
    "    \n",
    "    colors_inner = [unique_colors[l] for l in labels_true]\n",
    "    colors_outer = [unique_colors[l] for l in labels_pred]\n",
    "    plt.scatter(X[:, 0], X[:, 1], c=colors_inner, edgecolors=colors_outer)\n",
    "    plt.show()"
   ]
  },
  {
   "cell_type": "markdown",
   "metadata": {
    "colab_type": "text",
    "id": "7L7zIVOo5tLj"
   },
   "source": [
    "Посмотрим на то, как наш перцептрон справляется с различными наборами данных"
   ]
  },
  {
   "cell_type": "code",
   "execution_count": 60,
   "metadata": {
    "colab": {},
    "colab_type": "code",
    "id": "BdDhNXzN5tLj"
   },
   "outputs": [
    {
     "ename": "KeyError",
     "evalue": "2",
     "output_type": "error",
     "traceback": [
      "\u001b[1;31m---------------------------------------------------------------------------\u001b[0m",
      "\u001b[1;31mKeyError\u001b[0m                                  Traceback (most recent call last)",
      "\u001b[1;32m<ipython-input-60-3e8d367dd651>\u001b[0m in \u001b[0;36m<module>\u001b[1;34m()\u001b[0m\n\u001b[0;32m      2\u001b[0m \u001b[0mc\u001b[0m \u001b[1;33m=\u001b[0m \u001b[0mPerceptronBest\u001b[0m\u001b[1;33m(\u001b[0m\u001b[1;33m)\u001b[0m\u001b[1;33m\u001b[0m\u001b[0m\n\u001b[0;32m      3\u001b[0m \u001b[0mc\u001b[0m\u001b[1;33m.\u001b[0m\u001b[0mfit\u001b[0m\u001b[1;33m(\u001b[0m\u001b[0mX\u001b[0m\u001b[1;33m,\u001b[0m \u001b[0mtrue_labels\u001b[0m\u001b[1;33m)\u001b[0m\u001b[1;33m\u001b[0m\u001b[0m\n\u001b[1;32m----> 4\u001b[1;33m \u001b[0mvisualize\u001b[0m\u001b[1;33m(\u001b[0m\u001b[0mX\u001b[0m\u001b[1;33m,\u001b[0m \u001b[0mtrue_labels\u001b[0m\u001b[1;33m,\u001b[0m \u001b[0mnp\u001b[0m\u001b[1;33m.\u001b[0m\u001b[0marray\u001b[0m\u001b[1;33m(\u001b[0m\u001b[0mc\u001b[0m\u001b[1;33m.\u001b[0m\u001b[0mpredict\u001b[0m\u001b[1;33m(\u001b[0m\u001b[0mX\u001b[0m\u001b[1;33m)\u001b[0m\u001b[1;33m)\u001b[0m\u001b[1;33m,\u001b[0m \u001b[0mc\u001b[0m\u001b[1;33m.\u001b[0m\u001b[0mw\u001b[0m\u001b[1;33m)\u001b[0m\u001b[1;33m\u001b[0m\u001b[0m\n\u001b[0m",
      "\u001b[1;32m<ipython-input-59-41accef94a85>\u001b[0m in \u001b[0;36mvisualize\u001b[1;34m(X, labels_true, labels_pred, w)\u001b[0m\n\u001b[0;32m     19\u001b[0m \u001b[1;33m\u001b[0m\u001b[0m\n\u001b[0;32m     20\u001b[0m     \u001b[0mcolors_inner\u001b[0m \u001b[1;33m=\u001b[0m \u001b[1;33m[\u001b[0m\u001b[0munique_colors\u001b[0m\u001b[1;33m[\u001b[0m\u001b[0ml\u001b[0m\u001b[1;33m]\u001b[0m \u001b[1;32mfor\u001b[0m \u001b[0ml\u001b[0m \u001b[1;32min\u001b[0m \u001b[0mlabels_true\u001b[0m\u001b[1;33m]\u001b[0m\u001b[1;33m\u001b[0m\u001b[0m\n\u001b[1;32m---> 21\u001b[1;33m     \u001b[0mcolors_outer\u001b[0m \u001b[1;33m=\u001b[0m \u001b[1;33m[\u001b[0m\u001b[0munique_colors\u001b[0m\u001b[1;33m[\u001b[0m\u001b[0ml\u001b[0m\u001b[1;33m]\u001b[0m \u001b[1;32mfor\u001b[0m \u001b[0ml\u001b[0m \u001b[1;32min\u001b[0m \u001b[0mlabels_pred\u001b[0m\u001b[1;33m]\u001b[0m\u001b[1;33m\u001b[0m\u001b[0m\n\u001b[0m\u001b[0;32m     22\u001b[0m     \u001b[0mplt\u001b[0m\u001b[1;33m.\u001b[0m\u001b[0mscatter\u001b[0m\u001b[1;33m(\u001b[0m\u001b[0mX\u001b[0m\u001b[1;33m[\u001b[0m\u001b[1;33m:\u001b[0m\u001b[1;33m,\u001b[0m \u001b[1;36m0\u001b[0m\u001b[1;33m]\u001b[0m\u001b[1;33m,\u001b[0m \u001b[0mX\u001b[0m\u001b[1;33m[\u001b[0m\u001b[1;33m:\u001b[0m\u001b[1;33m,\u001b[0m \u001b[1;36m1\u001b[0m\u001b[1;33m]\u001b[0m\u001b[1;33m,\u001b[0m \u001b[0mc\u001b[0m\u001b[1;33m=\u001b[0m\u001b[0mcolors_inner\u001b[0m\u001b[1;33m,\u001b[0m \u001b[0medgecolors\u001b[0m\u001b[1;33m=\u001b[0m\u001b[0mcolors_outer\u001b[0m\u001b[1;33m)\u001b[0m\u001b[1;33m\u001b[0m\u001b[0m\n\u001b[0;32m     23\u001b[0m     \u001b[0mplt\u001b[0m\u001b[1;33m.\u001b[0m\u001b[0mshow\u001b[0m\u001b[1;33m(\u001b[0m\u001b[1;33m)\u001b[0m\u001b[1;33m\u001b[0m\u001b[0m\n",
      "\u001b[1;32m<ipython-input-59-41accef94a85>\u001b[0m in \u001b[0;36m<listcomp>\u001b[1;34m(.0)\u001b[0m\n\u001b[0;32m     19\u001b[0m \u001b[1;33m\u001b[0m\u001b[0m\n\u001b[0;32m     20\u001b[0m     \u001b[0mcolors_inner\u001b[0m \u001b[1;33m=\u001b[0m \u001b[1;33m[\u001b[0m\u001b[0munique_colors\u001b[0m\u001b[1;33m[\u001b[0m\u001b[0ml\u001b[0m\u001b[1;33m]\u001b[0m \u001b[1;32mfor\u001b[0m \u001b[0ml\u001b[0m \u001b[1;32min\u001b[0m \u001b[0mlabels_true\u001b[0m\u001b[1;33m]\u001b[0m\u001b[1;33m\u001b[0m\u001b[0m\n\u001b[1;32m---> 21\u001b[1;33m     \u001b[0mcolors_outer\u001b[0m \u001b[1;33m=\u001b[0m \u001b[1;33m[\u001b[0m\u001b[0munique_colors\u001b[0m\u001b[1;33m[\u001b[0m\u001b[0ml\u001b[0m\u001b[1;33m]\u001b[0m \u001b[1;32mfor\u001b[0m \u001b[0ml\u001b[0m \u001b[1;32min\u001b[0m \u001b[0mlabels_pred\u001b[0m\u001b[1;33m]\u001b[0m\u001b[1;33m\u001b[0m\u001b[0m\n\u001b[0m\u001b[0;32m     22\u001b[0m     \u001b[0mplt\u001b[0m\u001b[1;33m.\u001b[0m\u001b[0mscatter\u001b[0m\u001b[1;33m(\u001b[0m\u001b[0mX\u001b[0m\u001b[1;33m[\u001b[0m\u001b[1;33m:\u001b[0m\u001b[1;33m,\u001b[0m \u001b[1;36m0\u001b[0m\u001b[1;33m]\u001b[0m\u001b[1;33m,\u001b[0m \u001b[0mX\u001b[0m\u001b[1;33m[\u001b[0m\u001b[1;33m:\u001b[0m\u001b[1;33m,\u001b[0m \u001b[1;36m1\u001b[0m\u001b[1;33m]\u001b[0m\u001b[1;33m,\u001b[0m \u001b[0mc\u001b[0m\u001b[1;33m=\u001b[0m\u001b[0mcolors_inner\u001b[0m\u001b[1;33m,\u001b[0m \u001b[0medgecolors\u001b[0m\u001b[1;33m=\u001b[0m\u001b[0mcolors_outer\u001b[0m\u001b[1;33m)\u001b[0m\u001b[1;33m\u001b[0m\u001b[0m\n\u001b[0;32m     23\u001b[0m     \u001b[0mplt\u001b[0m\u001b[1;33m.\u001b[0m\u001b[0mshow\u001b[0m\u001b[1;33m(\u001b[0m\u001b[1;33m)\u001b[0m\u001b[1;33m\u001b[0m\u001b[0m\n",
      "\u001b[1;31mKeyError\u001b[0m: 2"
     ]
    },
    {
     "data": {
      "image/png": "[encoded data removed]",
      "text/plain": [
       "<Figure size 648x648 with 1 Axes>"
      ]
     },
     "metadata": {},
     "output_type": "display_data"
    }
   ],
   "source": [
    "X, true_labels = make_blobs(400, 2, centers=[[0, 0], [2.5, 2.5]])\n",
    "c = PerceptronBest()\n",
    "c.fit(X, true_labels)\n",
    "visualize(X, true_labels, np.array(c.predict(X)), c.w)"
   ]
  },
  {
   "cell_type": "code",
   "execution_count": 0,
   "metadata": {
    "colab": {},
    "colab_type": "code",
    "id": "16QOP3lr5tLl"
   },
   "outputs": [],
   "source": [
    "X, true_labels = make_moons(400, noise=0.075)\n",
    "c = PerceptronBest()\n",
    "c.fit(X, true_labels)\n",
    "visualize(X, true_labels, np.array(c.predict(X)), c.w)"
   ]
  },
  {
   "cell_type": "markdown",
   "metadata": {
    "colab_type": "text",
    "id": "xrwigZDy5tLn"
   },
   "source": [
    "### Задание 3 (1 балл)\n",
    "Реализуйте метод `transform_images(images)`, который преобразует изображения в двумерные векторы. Значение компонент векторов придумайте сами и напишите в виде комментария к методу."
   ]
  },
  {
   "cell_type": "code",
   "execution_count": 0,
   "metadata": {
    "colab": {},
    "colab_type": "code",
    "id": "aaSoxlDE5tLo"
   },
   "outputs": [],
   "source": [
    "def transform_images(images):\n",
    "    return np.zeros((images.shape[0], 2))\n",
    "\n",
    "def get_digits(y0=1, y1=5):\n",
    "    data = datasets.load_digits()\n",
    "    images, labels = data.images, data.target\n",
    "    mask = np.logical_or(labels == y0, labels == y1)\n",
    "    labels = labels[mask]\n",
    "    images = images[mask]\n",
    "    images /= np.max(images)\n",
    "    X = transform_images(images)\n",
    "    return X, labels"
   ]
  },
  {
   "cell_type": "markdown",
   "metadata": {
    "colab_type": "text",
    "id": "4c0Vkwks5tLq"
   },
   "source": [
    "### Задание 4 (4 балла)\n",
    "Теперь посмотрим на точность обычного перцептрона и перцептрона выбором лучшей итерации. Для тестирования будем использовать цифры 1 и 5. Необходимо использовать реализованное выше преобразование, т.е. только векторы из 2х признаков. \n",
    "\n",
    "Точность хотя бы одного из классификаторов на тестовой выборке должна быть больше 80%"
   ]
  },
  {
   "cell_type": "code",
   "execution_count": 0,
   "metadata": {
    "colab": {},
    "colab_type": "code",
    "id": "_eGeIq5I5tLq"
   },
   "outputs": [],
   "source": [
    "X, y = get_digits()\n",
    "\n",
    "X_train, X_test, y_train, y_test = train_test_split(X, y, train_size=0.8, shuffle=False)"
   ]
  },
  {
   "cell_type": "code",
   "execution_count": 0,
   "metadata": {
    "colab": {},
    "colab_type": "code",
    "id": "InfJDc6p5tLt"
   },
   "outputs": [],
   "source": [
    "c = Perceptron(iterations=100000)\n",
    "c.fit(X_train, y_train)\n",
    "visualize(X_train, y_train, np.array(c.predict(X_train)), c.w)\n",
    "print(\"Accuracy:\", np.mean(c.predict(X_test) == y_test))"
   ]
  },
  {
   "cell_type": "code",
   "execution_count": 0,
   "metadata": {
    "colab": {},
    "colab_type": "code",
    "id": "OHlaGhdq5tLu"
   },
   "outputs": [],
   "source": [
    "c = PerceptronBest(iterations=100000)\n",
    "c.fit(X_train, y_train)\n",
    "visualize(X_train, y_train, np.array(c.predict(X_train)), c.w)\n",
    "print(\"Accuracy:\", np.mean(c.predict(X_test) == y_test))"
   ]
  },
  {
   "cell_type": "markdown",
   "metadata": {
    "colab_type": "text",
    "id": "IYbrE9JZ5tLw"
   },
   "source": [
    "А теперь посчитаем среднюю точность по всем возможным парам цифр"
   ]
  },
  {
   "cell_type": "code",
   "execution_count": 0,
   "metadata": {
    "colab": {},
    "colab_type": "code",
    "id": "fgeo9IB75tLx",
    "scrolled": true
   },
   "outputs": [],
   "source": [
    "accs = []\n",
    "for y0, y1 in [(y0, y1) for y0 in range(9) for y1 in range(y0+1, 10)]:\n",
    "    X, y = get_digits(y0, y1)\n",
    "    X_train, X_test, y_train, y_test = train_test_split(X, y, train_size=0.8, shuffle=False)\n",
    "    c = Perceptron(iterations=20000)\n",
    "    c.fit(X_train, y_train)\n",
    "    accs.append(np.mean(c.predict(X_test) == y_test))\n",
    "print(\"Mean accuracy:\", np.mean(accs))"
   ]
  },
  {
   "cell_type": "code",
   "execution_count": 0,
   "metadata": {
    "colab": {},
    "colab_type": "code",
    "id": "NP-EHvDj5tLz",
    "scrolled": true
   },
   "outputs": [],
   "source": [
    "accs = []\n",
    "for y0, y1 in [(y0, y1) for y0 in range(9) for y1 in range(y0+1, 10)]:\n",
    "    X, y = get_digits(y0, y1)\n",
    "    X_train, X_test, y_train, y_test = train_test_split(X, y, train_size=0.8, shuffle=False)\n",
    "    c = PerceptronBest(iterations=20000)\n",
    "    c.fit(X_train, y_train)\n",
    "    accs.append(np.mean(c.predict(X_test) == y_test))\n",
    "print(\"Mean accuracy:\", np.mean(accs))"
   ]
  },
  {
   "cell_type": "code",
   "execution_count": 0,
   "metadata": {
    "colab": {},
    "colab_type": "code",
    "id": "NdWYqU3t5tL1"
   },
   "outputs": [],
   "source": []
  }
 ],
 "metadata": {
  "colab": {
   "collapsed_sections": [],
   "name": "hw05_task.ipynb",
   "provenance": []
  },
  "kernelspec": {
   "display_name": "Python 3",
   "language": "python",
   "name": "python3"
  },
  "language_info": {
   "codemirror_mode": {
    "name": "ipython",
    "version": 3
   },
   "file_extension": ".py",
   "mimetype": "text/x-python",
   "name": "python",
   "nbconvert_exporter": "python",
   "pygments_lexer": "ipython3",
   "version": "3.6.5"
  }
 },
 "nbformat": 4,
 "nbformat_minor": 1
}
